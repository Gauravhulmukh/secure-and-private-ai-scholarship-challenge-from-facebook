{
 "cells": [
  {
   "cell_type": "markdown",
   "metadata": {},
   "source": [
    "# Inference and Validation\n",
    "\n",
    "Now that you have a trained network, you can use it for making predictions. This is typically called **inference**, a term borrowed from statistics. However, neural networks have a tendency to perform *too well* on the training data and aren't able to generalize to data that hasn't been seen before. This is called **overfitting** and it impairs inference performance. To test for overfitting while training, we measure the performance on data not in the training set called the **validation** set. We avoid overfitting through regularization such as dropout while monitoring the validation performance during training. In this notebook, I'll show you how to do this in PyTorch. \n",
    "\n",
    "As usual, let's start by loading the dataset through torchvision. You'll learn more about torchvision and loading data in a later part. This time we'll be taking advantage of the test set which you can get by setting `train=False` here:\n",
    "\n",
    "```python\n",
    "testset = datasets.FashionMNIST('~/.pytorch/F_MNIST_data/', download=True, train=False, transform=transform)\n",
    "```\n",
    "\n",
    "The test set contains images just like the training set. Typically you'll see 10-20% of the original dataset held out for testing and validation with the rest being used for training."
   ]
  },
  {
   "cell_type": "code",
   "execution_count": 1,
   "metadata": {},
   "outputs": [],
   "source": [
    "import torch\n",
    "from torchvision import datasets ,transforms\n",
    "\n",
    "transform = transforms.Compose([transforms.ToTensor(),transforms.Normalize((0.5,0.5,0.5),(0.5,0.5,0.5))])\n",
    "\n",
    "trainset =datasets.FashionMNIST('~/.pytorch/F_MNIST_data/',download=True,train=True,transform=transform)\n",
    "trainloader = torch.utils.data.DataLoader(trainset,batch_size=64,shuffle=True)\n",
    "\n",
    "\n",
    "testset =datasets.FashionMNIST('~/.pytorch/F_MNIST_data/',download=True,train=True,transform=transform)\n",
    "testloader = torch.utils.data.DataLoader(testset,batch_size=64,shuffle=True)"
   ]
  },
  {
   "cell_type": "markdown",
   "metadata": {},
   "source": [
    "Here I'll create a model like normal, using the same one from my solution for part 4."
   ]
  },
  {
   "cell_type": "code",
   "execution_count": 2,
   "metadata": {},
   "outputs": [],
   "source": [
    "from torch import nn, optim\n",
    "import torch.nn.functional as F\n",
    "\n",
    "class Classifier(nn.Module):\n",
    "    def __init__(self):\n",
    "        \n",
    "        super().__init__()\n",
    "        self.fc1 = nn.Linear(784, 256)\n",
    "        self.fc2 = nn.Linear(256, 128)\n",
    "        self.fc3 = nn.Linear(128, 64)\n",
    "        self.fc4 = nn.Linear(64, 10)\n",
    "        \n",
    "    def forward(self, x):\n",
    "        # make sure input tensor is flattened\n",
    "        x = x.view(x.shape[0], -1)\n",
    "        \n",
    "        x = F.relu(self.fc1(x))\n",
    "        x = F.relu(self.fc2(x))\n",
    "        x = F.relu(self.fc3(x))\n",
    "        x = F.log_softmax(self.fc4(x), dim=1)\n",
    "        \n",
    "        return x"
   ]
  },
  {
   "cell_type": "markdown",
   "metadata": {},
   "source": [
    "The goal of validation is to measure the model's performance on data that isn't part of the training set. Performance here is up to the developer to define though. Typically this is just accuracy, the percentage of classes the network predicted correctly. Other options are [precision and recall](https://en.wikipedia.org/wiki/Precision_and_recall#Definition_(classification_context)) and top-5 error rate. We'll focus on accuracy here. First I'll do a forward pass with one batch from the test set."
   ]
  },
  {
   "cell_type": "code",
   "execution_count": 3,
   "metadata": {},
   "outputs": [
    {
     "name": "stdout",
     "output_type": "stream",
     "text": [
      "torch.Size([64, 10])\n"
     ]
    }
   ],
   "source": [
    "model = Classifier()\n",
    "\n",
    "images, labels = next(iter(testloader))\n",
    "# Get the class probabilities\n",
    "ps = torch.exp(model(images))\n",
    "# Make sure the shape is appropriate, we should get 10 class probabilities for 64 examples\n",
    "print(ps.shape)"
   ]
  },
  {
   "cell_type": "markdown",
   "metadata": {},
   "source": [
    "With the probabilities, we can get the most likely class using the `ps.topk` method. This returns the $k$ highest values. Since we just want the most likely class, we can use `ps.topk(1)`. This returns a tuple of the top-$k$ values and the top-$k$ indices. If the highest value is the fifth element, we'll get back 4 as the index."
   ]
  },
  {
   "cell_type": "code",
   "execution_count": 8,
   "metadata": {},
   "outputs": [
    {
     "name": "stdout",
     "output_type": "stream",
     "text": [
      "tensor([[ 3],\n",
      "        [ 0],\n",
      "        [ 0],\n",
      "        [ 3],\n",
      "        [ 3],\n",
      "        [ 0],\n",
      "        [ 0],\n",
      "        [ 3],\n",
      "        [ 3],\n",
      "        [ 3]])\n"
     ]
    }
   ],
   "source": [
    "top_p, top_class = ps.topk(1, dim=1)\n",
    "# Look at the most likely classes for the first 10 examples\n",
    "print(top_class[:10,:])\n"
   ]
  },
  {
   "cell_type": "markdown",
   "metadata": {},
   "source": [
    "Now we can check if the predicted classes match the labels. This is simple to do by equating `top_class` and `labels`, but we have to be careful of the shapes. Here `top_class` is a 2D tensor with shape `(64, 1)` while `labels` is 1D with shape `(64)`. To get the equality to work out the way we want, `top_class` and `labels` must have the same shape.\n",
    "\n",
    "If we do\n",
    "\n",
    "```python\n",
    "equals = top_class == labels\n",
    "```\n",
    "\n",
    "`equals` will have shape `(64, 64)`, try it yourself. What it's doing is comparing the one element in each row of `top_class` with each element in `labels` which returns 64 True/False boolean values for each row."
   ]
  },
  {
   "cell_type": "code",
   "execution_count": 14,
   "metadata": {},
   "outputs": [
    {
     "data": {
      "text/plain": [
       "torch.Size([64])"
      ]
     },
     "execution_count": 14,
     "metadata": {},
     "output_type": "execute_result"
    }
   ],
   "source": [
    "\n",
    "equals = top_class == labels.view(*top_class.shape)\n",
    "labels.shape"
   ]
  },
  {
   "cell_type": "markdown",
   "metadata": {},
   "source": [
    "Now we need to calculate the percentage of correct predictions. `equals` has binary values, either 0 or 1. This means that if we just sum up all the values and divide by the number of values, we get the percentage of correct predictions. This is the same operation as taking the mean, so we can get the accuracy with a call to `torch.mean`. If only it was that simple. If you try `torch.mean(equals)`, you'll get an error\n",
    "\n",
    "```\n",
    "RuntimeError: mean is not implemented for type torch.ByteTensor\n",
    "```\n",
    "\n",
    "This happens because `equals` has type `torch.ByteTensor` but `torch.mean` isn't implemented for tensors with that type. So we'll need to convert `equals` to a float tensor. Note that when we take `torch.mean` it returns a scalar tensor, to get the actual value as a float we'll need to do `accuracy.item()`."
   ]
  },
  {
   "cell_type": "code",
   "execution_count": 18,
   "metadata": {},
   "outputs": [
    {
     "name": "stdout",
     "output_type": "stream",
     "text": [
      "Accuracy: 6.25%\n"
     ]
    }
   ],
   "source": [
    "accuracy = torch.mean(equals.type(torch.FloatTensor))\n",
    "print(f'Accuracy: {accuracy.item()*100}%')"
   ]
  },
  {
   "cell_type": "markdown",
   "metadata": {},
   "source": [
    "The network is untrained so it's making random guesses and we should see an accuracy around 10%. Now let's train our network and include our validation pass so we can measure how well the network is performing on the test set. Since we're not updating our parameters in the validation pass, we can speed up our code by turning off gradients using `torch.no_grad()`:\n",
    "\n",
    "```python\n",
    "# turn off gradients\n",
    "with torch.no_grad():\n",
    "    # validation pass here\n",
    "    for images, labels in testloader:\n",
    "        ...\n",
    "```\n",
    "\n",
    ">**Exercise:** Implement the validation loop below and print out the total accuracy after the loop. You can largely copy and paste the code from above, but I suggest typing it in because writing it out yourself is essential for building the skill. In general you'll always learn more by typing it rather than copy-pasting. You should be able to get an accuracy above 80%."
   ]
  },
  {
   "cell_type": "code",
   "execution_count": 24,
   "metadata": {},
   "outputs": [
    {
     "name": "stdout",
     "output_type": "stream",
     "text": [
      "epochs:1/30..  training loss: 0.515..  testloss:0.000..  testaccuracy: 0.862\n",
      "epochs:2/30..  training loss: 0.390..  testloss:0.000..  testaccuracy: 0.848\n",
      "epochs:3/30..  training loss: 0.355..  testloss:0.000..  testaccuracy: 0.888\n",
      "epochs:4/30..  training loss: 0.335..  testloss:0.000..  testaccuracy: 0.892\n",
      "epochs:5/30..  training loss: 0.316..  testloss:0.000..  testaccuracy: 0.891\n",
      "epochs:6/30..  training loss: 0.300..  testloss:0.000..  testaccuracy: 0.893\n",
      "epochs:7/30..  training loss: 0.297..  testloss:0.000..  testaccuracy: 0.901\n",
      "epochs:8/30..  training loss: 0.283..  testloss:0.000..  testaccuracy: 0.905\n",
      "epochs:9/30..  training loss: 0.275..  testloss:0.000..  testaccuracy: 0.906\n",
      "epochs:10/30..  training loss: 0.268..  testloss:0.000..  testaccuracy: 0.912\n",
      "epochs:11/30..  training loss: 0.258..  testloss:0.000..  testaccuracy: 0.909\n",
      "epochs:12/30..  training loss: 0.251..  testloss:0.000..  testaccuracy: 0.904\n",
      "epochs:13/30..  training loss: 0.249..  testloss:0.000..  testaccuracy: 0.917\n",
      "epochs:14/30..  training loss: 0.241..  testloss:0.000..  testaccuracy: 0.915\n",
      "epochs:15/30..  training loss: 0.237..  testloss:0.000..  testaccuracy: 0.919\n",
      "epochs:16/30..  training loss: 0.236..  testloss:0.000..  testaccuracy: 0.916\n",
      "epochs:17/30..  training loss: 0.229..  testloss:0.000..  testaccuracy: 0.923\n",
      "epochs:18/30..  training loss: 0.224..  testloss:0.000..  testaccuracy: 0.930\n",
      "epochs:19/30..  training loss: 0.221..  testloss:0.000..  testaccuracy: 0.924\n",
      "epochs:20/30..  training loss: 0.216..  testloss:0.000..  testaccuracy: 0.927\n",
      "epochs:21/30..  training loss: 0.211..  testloss:0.000..  testaccuracy: 0.927\n",
      "epochs:22/30..  training loss: 0.210..  testloss:0.000..  testaccuracy: 0.924\n",
      "epochs:23/30..  training loss: 0.206..  testloss:0.000..  testaccuracy: 0.928\n",
      "epochs:24/30..  training loss: 0.205..  testloss:0.000..  testaccuracy: 0.924\n",
      "epochs:25/30..  training loss: 0.202..  testloss:0.000..  testaccuracy: 0.934\n",
      "epochs:26/30..  training loss: 0.191..  testloss:0.000..  testaccuracy: 0.933\n",
      "epochs:27/30..  training loss: 0.194..  testloss:0.000..  testaccuracy: 0.933\n",
      "epochs:28/30..  training loss: 0.192..  testloss:0.000..  testaccuracy: 0.928\n",
      "epochs:29/30..  training loss: 0.185..  testloss:0.000..  testaccuracy: 0.933\n",
      "epochs:30/30..  training loss: 0.183..  testloss:0.000..  testaccuracy: 0.937\n"
     ]
    }
   ],
   "source": [
    "model = Classifier()\n",
    "criterion = nn.NLLLoss()\n",
    "optimizer = optim.Adam(model.parameters(), lr=0.003)\n",
    "\n",
    "epochs = 30\n",
    "steps = 0\n",
    "\n",
    "train_losses, test_losses = [], []\n",
    "for e in range(epochs):\n",
    "    running_loss = 0\n",
    "    for images, labels in trainloader:\n",
    "        \n",
    "        optimizer.zero_grad()\n",
    "        \n",
    "        log_ps = model(images)\n",
    "        loss = criterion(log_ps, labels)\n",
    "        loss.backward()\n",
    "        optimizer.step()\n",
    "        \n",
    "        running_loss += loss.item()\n",
    "        \n",
    "    else:\n",
    "        ## TODO: Implement the validation pass and print out the validation accuracy\n",
    "        testloss=0\n",
    "        accuracy=0\n",
    "        \n",
    "        with torch.no_grad():\n",
    "            for images,labels in testloader:\n",
    "                logps=model(images)\n",
    "                tetsloss=criterion(logps,labels)\n",
    "                \n",
    "                ps=torch.exp(logps)\n",
    "                top_p,top_class =ps.topk(1,dim=1)\n",
    "                equals=top_class==labels.view(*top_class.shape)\n",
    "                accuracy += torch.mean(equals.type(torch.FloatTensor))\n",
    "        \n",
    "        train_losses.append(running_loss/len(trainloader))    \n",
    "        test_losses.append(testloss/len(testloader))\n",
    "        \n",
    "        \n",
    "        print(\"epochs:{}/{}.. \".format(e+1,epochs),\n",
    "                      \"training loss: {:.3f}.. \".format(running_loss/len(trainloader)),\n",
    "                      \"testloss:{:.3f}.. \".format(testloss/len(testloader)),\n",
    "                      \"testaccuracy: {:.3f}\".format(accuracy/len(testloader)))"
   ]
  },
  {
   "cell_type": "markdown",
   "metadata": {},
   "source": [
    "## Overfitting\n",
    "\n",
    "If we look at the training and validation losses as we train the network, we can see a phenomenon known as overfitting.\n",
    "\n",
    "<img src='assets/overfitting.png' width=450px>\n",
    "\n",
    "The network learns the training set better and better, resulting in lower training losses. However, it starts having problems generalizing to data outside the training set leading to the validation loss increasing. The ultimate goal of any deep learning model is to make predictions on new data, so we should strive to get the lowest validation loss possible. One option is to use the version of the model with the lowest validation loss, here the one around 8-10 training epochs. This strategy is called *early-stopping*. In practice, you'd save the model frequently as you're training then later choose the model with the lowest validation loss.\n",
    "\n",
    "The most common method to reduce overfitting (outside of early-stopping) is *dropout*, where we randomly drop input units. This forces the network to share information between weights, increasing it's ability to generalize to new data. Adding dropout in PyTorch is straightforward using the [`nn.Dropout`](https://pytorch.org/docs/stable/nn.html#torch.nn.Dropout) module.\n",
    "\n",
    "```python\n",
    "class Classifier(nn.Module):\n",
    "    def __init__(self):\n",
    "        super().__init__()\n",
    "        self.fc1 = nn.Linear(784, 256)\n",
    "        self.fc2 = nn.Linear(256, 128)\n",
    "        self.fc3 = nn.Linear(128, 64)\n",
    "        self.fc4 = nn.Linear(64, 10)\n",
    "        \n",
    "        # Dropout module with 0.2 drop probability\n",
    "        self.dropout = nn.Dropout(p=0.2)\n",
    "        \n",
    "    def forward(self, x):\n",
    "        # make sure input tensor is flattened\n",
    "        x = x.view(x.shape[0], -1)\n",
    "        \n",
    "        # Now with dropout\n",
    "        x = self.dropout(F.relu(self.fc1(x)))\n",
    "        x = self.dropout(F.relu(self.fc2(x)))\n",
    "        x = self.dropout(F.relu(self.fc3(x)))\n",
    "        \n",
    "        # output so no dropout here\n",
    "        x = F.log_softmax(self.fc4(x), dim=1)\n",
    "        \n",
    "        return x\n",
    "```\n",
    "\n",
    "During training we want to use dropout to prevent overfitting, but during inference we want to use the entire network. So, we need to turn off dropout during validation, testing, and whenever we're using the network to make predictions. To do this, you use `model.eval()`. This sets the model to evaluation mode where the dropout probability is 0. You can turn dropout back on by setting the model to train mode with `model.train()`. In general, the pattern for the validation loop will look like this, where you turn off gradients, set the model to evaluation mode, calculate the validation loss and metric, then set the model back to train mode.\n",
    "\n",
    "```python\n",
    "# turn off gradients\n",
    "with torch.no_grad():\n",
    "    \n",
    "    # set model to evaluation mode\n",
    "    model.eval()\n",
    "    \n",
    "    # validation pass here\n",
    "    for images, labels in testloader:\n",
    "        ...\n",
    "\n",
    "# set model back to train mode\n",
    "model.train()\n",
    "```"
   ]
  },
  {
   "cell_type": "markdown",
   "metadata": {},
   "source": [
    "> **Exercise:** Add dropout to your model and train it on Fashion-MNIST again. See if you can get a lower validation loss or higher accuracy."
   ]
  },
  {
   "cell_type": "code",
   "execution_count": 30,
   "metadata": {},
   "outputs": [],
   "source": [
    "## TODO: Define your model with dropout added\n",
    "class Classifier(nn.Module):\n",
    "    def __init__(self):\n",
    "        super().__init__()\n",
    "        self.fc1=nn.Linear(784,256)\n",
    "        self.fc2=nn.Linear(256,128)\n",
    "        self.fc3=nn.Linear(128,64)\n",
    "        self.fc4=nn.Linear(64,10)\n",
    "            \n",
    "        self.dropout =nn.Dropout(p=0.2)\n",
    "            \n",
    "    def forward(self,x):\n",
    "        x=x.view(x.shape[0],-1)\n",
    "        x=self.dropout(F.relu(self.fc1(x)))\n",
    "        x=self.dropout(F.relu(self.fc2(x)))\n",
    "        x=self.dropout(F.relu(self.fc3(x)))\n",
    "        x=F.log_softmax(self.fc4(x),dim=1)\n",
    "        return x"
   ]
  },
  {
   "cell_type": "code",
   "execution_count": 35,
   "metadata": {},
   "outputs": [
    {
     "name": "stdout",
     "output_type": "stream",
     "text": [
      "epoch:1/30.. training loss:0.61 test loss:0.423.. test accuracy:0.846\n",
      "epoch:2/30.. training loss:0.48 test loss:0.382.. test accuracy:0.863\n",
      "epoch:3/30.. training loss:0.46 test loss:0.390.. test accuracy:0.857\n",
      "epoch:4/30.. training loss:0.43 test loss:0.341.. test accuracy:0.875\n",
      "epoch:5/30.. training loss:0.42 test loss:0.339.. test accuracy:0.874\n",
      "epoch:6/30.. training loss:0.41 test loss:0.316.. test accuracy:0.882\n",
      "epoch:7/30.. training loss:0.40 test loss:0.313.. test accuracy:0.887\n",
      "epoch:8/30.. training loss:0.39 test loss:0.304.. test accuracy:0.886\n",
      "epoch:9/30.. training loss:0.39 test loss:0.307.. test accuracy:0.883\n",
      "epoch:10/30.. training loss:0.39 test loss:0.312.. test accuracy:0.884\n",
      "epoch:11/30.. training loss:0.38 test loss:0.305.. test accuracy:0.887\n",
      "epoch:12/30.. training loss:0.38 test loss:0.309.. test accuracy:0.886\n",
      "epoch:13/30.. training loss:0.37 test loss:0.304.. test accuracy:0.889\n",
      "epoch:14/30.. training loss:0.37 test loss:0.290.. test accuracy:0.895\n",
      "epoch:15/30.. training loss:0.37 test loss:0.293.. test accuracy:0.894\n",
      "epoch:16/30.. training loss:0.36 test loss:0.272.. test accuracy:0.902\n",
      "epoch:17/30.. training loss:0.37 test loss:0.280.. test accuracy:0.897\n",
      "epoch:18/30.. training loss:0.35 test loss:0.292.. test accuracy:0.892\n",
      "epoch:19/30.. training loss:0.36 test loss:0.302.. test accuracy:0.889\n",
      "epoch:20/30.. training loss:0.35 test loss:0.269.. test accuracy:0.903\n",
      "epoch:21/30.. training loss:0.36 test loss:0.266.. test accuracy:0.905\n",
      "epoch:22/30.. training loss:0.35 test loss:0.268.. test accuracy:0.903\n",
      "epoch:23/30.. training loss:0.35 test loss:0.294.. test accuracy:0.888\n",
      "epoch:24/30.. training loss:0.35 test loss:0.289.. test accuracy:0.897\n",
      "epoch:25/30.. training loss:0.35 test loss:0.263.. test accuracy:0.905\n",
      "epoch:26/30.. training loss:0.34 test loss:0.268.. test accuracy:0.901\n",
      "epoch:27/30.. training loss:0.34 test loss:0.254.. test accuracy:0.906\n",
      "epoch:28/30.. training loss:0.34 test loss:0.262.. test accuracy:0.903\n",
      "epoch:29/30.. training loss:0.34 test loss:0.260.. test accuracy:0.907\n",
      "epoch:30/30.. training loss:0.34 test loss:0.253.. test accuracy:0.905\n"
     ]
    }
   ],
   "source": [
    "## TODO: Train your model with dropout, and monitor the training progress with the validation loss and accuracy\n",
    "model=Classifier()\n",
    "criterion =nn.NLLLoss()\n",
    "optimizer = optim.Adam(model.parameters(),lr=0.003)\n",
    "\n",
    "epochs=30\n",
    "steps=0\n",
    "train_losses,test_losses=[],[]\n",
    "for e in range(epochs):\n",
    "    running_loss=0\n",
    "    for images,labels in trainloader:\n",
    "        \n",
    "        optimizer.zero_grad()\n",
    "        logps=model(images)\n",
    "        loss=criterion(logps,labels)\n",
    "        loss.backward()\n",
    "        optimizer.step()\n",
    "        \n",
    "        running_loss += loss.item()\n",
    "    \n",
    "    else:\n",
    "        testloss=0\n",
    "        accuracy=0\n",
    "        \n",
    "        with torch.no_grad():\n",
    "            model.eval()\n",
    "            for images,labels in testloader:\n",
    "                logps=model(images)\n",
    "                testloss +=criterion(logps,labels)\n",
    "                \n",
    "                ps=torch.exp(logps)\n",
    "                top_p,top_class=ps.topk(1,dim=1)\n",
    "                equals=top_class==labels.view(*top_class.shape)\n",
    "                accuracy += torch.mean(equals.type(torch.FloatTensor))\n",
    "                \n",
    "        model.train()\n",
    "        \n",
    "        train_losses.append(running_loss/len(trainloader))\n",
    "        test_losses.append(testloss/len(testloader))\n",
    "        \n",
    "        print(\"epoch:{}/{}..\".format(e+1,epochs),\n",
    "              \"training loss:{:.2f}\".format(train_losses[-1]),\n",
    "              \"test loss:{:.3f}..\".format(test_losses[-1]),\n",
    "              \"test accuracy:{:.3f}\".format(accuracy/len(testloader)))"
   ]
  },
  {
   "cell_type": "markdown",
   "metadata": {},
   "source": [
    "## Inference\n",
    "\n",
    "Now that the model is trained, we can use it for inference. We've done this before, but now we need to remember to set the model in inference mode with `model.eval()`. You'll also want to turn off autograd with the `torch.no_grad()` context."
   ]
  },
  {
   "cell_type": "code",
   "execution_count": 52,
   "metadata": {},
   "outputs": [
    {
     "name": "stdout",
     "output_type": "stream",
     "text": [
      "torch.Size([1, 28, 28])\n"
     ]
    },
    {
     "data": {
      "text/plain": [
       "torch.Size([1, 784])"
      ]
     },
     "execution_count": 52,
     "metadata": {},
     "output_type": "execute_result"
    },
    {
     "data": {
      "image/png": "[encoded data removed]",
      "text/plain": [
       "<matplotlib.figure.Figure at 0x7f390088f4a8>"
      ]
     },
     "metadata": {
      "needs_background": "light"
     },
     "output_type": "display_data"
    }
   ],
   "source": [
    "# Import helper module (should be in the repo)\n",
    "import helper\n",
    "model.eval()\n",
    "images, labels = next(iter(testloader))\n",
    "img = images[0]\n",
    "print(img.shape)\n",
    "# Convert 2D image to 1D vector\n",
    "img = img.view(1, 784)\n",
    "\n",
    "# Calculate the class probabilities (softmax) for img\n",
    "with torch.no_grad():\n",
    "    output = model.forward(img)\n",
    "\n",
    "ps = torch.exp(output)\n",
    "\n",
    "# Plot the image and probabilities\n",
    "helper.view_classify(img.view(1, 28, 28), ps, version='Fashion')\n",
    "img.shape"
   ]
  },
  {
   "cell_type": "code",
   "execution_count": 36,
   "metadata": {},
   "outputs": [
    {
     "data": {
      "text/plain": [
       "<matplotlib.legend.Legend at 0x7f39011ffdd8>"
      ]
     },
     "execution_count": 36,
     "metadata": {},
     "output_type": "execute_result"
    }
   ],
   "source": []
  },
  {
   "cell_type": "markdown",
   "metadata": {},
   "source": [
    "## Next Up!\n",
    "\n",
    "In the next part, I'll show you how to save your trained models. In general, you won't want to train a model everytime you need it. Instead, you'll train once, save it, then load the model when you want to train more or use if for inference."
   ]
  }
 ],
 "metadata": {
  "kernelspec": {
   "display_name": "Python 3",
   "language": "python",
   "name": "python3"
  },
  "language_info": {
   "codemirror_mode": {
    "name": "ipython",
    "version": 3
   },
   "file_extension": ".py",
   "mimetype": "text/x-python",
   "name": "python",
   "nbconvert_exporter": "python",
   "pygments_lexer": "ipython3",
   "version": "3.6.3"
  }
 },
 "nbformat": 4,
 "nbformat_minor": 2
}
